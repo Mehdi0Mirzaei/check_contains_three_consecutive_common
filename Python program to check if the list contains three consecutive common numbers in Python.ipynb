{
 "cells": [
  {
   "cell_type": "code",
   "execution_count": 8,
   "id": "c3593a33",
   "metadata": {},
   "outputs": [
    {
     "name": "stdout",
     "output_type": "stream",
     "text": [
      "5\n"
     ]
    }
   ],
   "source": [
    "lst=[1,2,3,5,5,5,4,6,7]\n",
    "size=len(lst)\n",
    "for item in range(size-2):\n",
    "    if lst[item]==lst[item+1] and lst[item+1]==lst[item+2]:\n",
    "        print(lst[item])\n",
    "\n"
   ]
  },
  {
   "cell_type": "code",
   "execution_count": 9,
   "id": "cfe9a1a8",
   "metadata": {},
   "outputs": [
    {
     "name": "stdout",
     "output_type": "stream",
     "text": [
      "5\n",
      "6\n"
     ]
    }
   ],
   "source": [
    "lst=[1,2,3,5,5,5,4,6,6,6,7,7]\n",
    "size=len(lst)\n",
    "for item in range(size-2):\n",
    "    if lst[item]==lst[item+1] and lst[item+1]==lst[item+2]:\n",
    "        print(lst[item])\n"
   ]
  },
  {
   "cell_type": "code",
   "execution_count": 10,
   "id": "632d32e8",
   "metadata": {},
   "outputs": [],
   "source": [
    "def check_contains_three_consecutive_common(lst):\n",
    "    size=len(lst)\n",
    "    for item in range(size-2):\n",
    "        if lst[item]==lst[item+1] and lst[item+1]==lst[item+2]:\n",
    "            print(\"The number contain 3 consecutive common: \",lst[item])"
   ]
  },
  {
   "cell_type": "code",
   "execution_count": 11,
   "id": "33a6c820",
   "metadata": {},
   "outputs": [],
   "source": [
    "lst3=[1,2,1,1,3,3,3,4,4,5,5,5,4]"
   ]
  },
  {
   "cell_type": "code",
   "execution_count": 12,
   "id": "2e4d3552",
   "metadata": {},
   "outputs": [
    {
     "name": "stdout",
     "output_type": "stream",
     "text": [
      "The number contain 3 consecutive common:  3\n",
      "The number contain 3 consecutive common:  5\n"
     ]
    }
   ],
   "source": [
    "check_contains_three_consecutive_common(lst3)"
   ]
  },
  {
   "cell_type": "code",
   "execution_count": 23,
   "id": "31c2b6ac",
   "metadata": {},
   "outputs": [
    {
     "name": "stdout",
     "output_type": "stream",
     "text": [
      "1\n",
      "22\n"
     ]
    }
   ],
   "source": [
    "lst = [1, 1, 1, 64, 23, 64, 22, 22, 22]\n",
    " \n",
    "# size of the list\n",
    "size = len(lst)\n",
    " \n",
    "# looping till length - 2\n",
    "for i in range(size - 2):\n",
    "    elements = set([lst[i], lst[i+1], lst[i+2]])\n",
    "    if(len(elements) == 1):\n",
    "            print(lst[i])"
   ]
  },
  {
   "cell_type": "code",
   "execution_count": 25,
   "id": "a55a4396",
   "metadata": {},
   "outputs": [
    {
     "name": "stdout",
     "output_type": "stream",
     "text": [
      "[3, 5]\n"
     ]
    }
   ],
   "source": [
    "import itertools\n",
    "# creating the list\n",
    "lst =[1,2,1,1,3,3,3,4,4,5,5,5,4]\n",
    "triples = zip(lst, lst[1:], lst[2:])\n",
    "print([x for x,y,z in itertools.islice(triples, len(lst)-2) if x==y==z])"
   ]
  },
  {
   "cell_type": "code",
   "execution_count": null,
   "id": "9683d72a",
   "metadata": {},
   "outputs": [],
   "source": []
  }
 ],
 "metadata": {
  "kernelspec": {
   "display_name": "Python 3 (ipykernel)",
   "language": "python",
   "name": "python3"
  },
  "language_info": {
   "codemirror_mode": {
    "name": "ipython",
    "version": 3
   },
   "file_extension": ".py",
   "mimetype": "text/x-python",
   "name": "python",
   "nbconvert_exporter": "python",
   "pygments_lexer": "ipython3",
   "version": "3.9.13"
  }
 },
 "nbformat": 4,
 "nbformat_minor": 5
}
